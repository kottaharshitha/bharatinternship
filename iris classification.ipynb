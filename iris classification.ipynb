{
  "nbformat": 4,
  "nbformat_minor": 0,
  "metadata": {
    "colab": {
      "provenance": []
    },
    "kernelspec": {
      "name": "python3",
      "display_name": "Python 3"
    },
    "language_info": {
      "name": "python"
    }
  },
  "cells": [
    {
      "cell_type": "code",
      "execution_count": null,
      "metadata": {
        "id": "8PVpD3UilW-F"
      },
      "outputs": [],
      "source": [
        "# DataFlair Iris Flower Classification\n",
        "# Import Packages\n",
        "import numpy as np\n",
        "import matplotlib.pyplot as plt\n",
        "import seaborn as sns\n",
        "import pandas as pd\n",
        "%matplotlib inline"
      ]
    },
    {
      "cell_type": "code",
      "source": [
        " columns = ['Sepal length', 'Sepal width', 'Petal length', 'Petal width', 'Class_labels']\n",
        "# Load the data\n",
        "df = pd.read_csv('iris.data', names=columns)\n",
        "df.head()"
      ],
      "metadata": {
        "id": "9OFQzS2wlbXz"
      },
      "execution_count": null,
      "outputs": []
    },
    {
      "cell_type": "code",
      "source": [
        "# Some basic statistical analysis about the data\n",
        "df.describe()"
      ],
      "metadata": {
        "id": "NpIqdGSjloPg"
      },
      "execution_count": null,
      "outputs": []
    },
    {
      "cell_type": "code",
      "source": [
        "# Visualize the whole dataset\n",
        "sns.pairplot(df, hue='Class_labels')"
      ],
      "metadata": {
        "id": "YL5ZhGCjlsF2"
      },
      "execution_count": null,
      "outputs": []
    },
    {
      "cell_type": "code",
      "source": [
        "# Separate features and target\n",
        "data = df.values\n",
        "X = data[:,0:4]\n",
        "Y = data[:,4]"
      ],
      "metadata": {
        "id": "brmb4f0ylviS"
      },
      "execution_count": null,
      "outputs": []
    },
    {
      "cell_type": "code",
      "source": [
        "# Calculate average of each features for all classes\n",
        "Y_Data = np.array([np.average(X[:, i][Y==j].astype('float32')) for i in range (X.shape[1])\n",
        " for j in (np.unique(Y))])\n",
        "Y_Data_reshaped = Y_Data.reshape(4, 3)\n",
        "Y_Data_reshaped = np.swapaxes(Y_Data_reshaped, 0, 1)\n",
        "X_axis = np.arange(len(columns)-1)\n",
        "width = 0.25"
      ],
      "metadata": {
        "id": "1CuOHsV3lySA"
      },
      "execution_count": null,
      "outputs": []
    },
    {
      "cell_type": "code",
      "source": [
        "# Plot the average\n",
        "plt.bar(X_axis, Y_Data_reshaped[0], width, label = 'Setosa')\n",
        "plt.bar(X_axis+width, Y_Data_reshaped[1], width, label = 'Versicolour')\n",
        "plt.bar(X_axis+width*2, Y_Data_reshaped[2], width, label = 'Virginica')\n",
        "plt.xticks(X_axis, columns[:4])\n",
        "plt.xlabel(\"Features\")\n",
        "plt.ylabel(\"Value in cm.\")\n",
        "plt.legend(bbox_to_anchor=(1.3,1))\n",
        "plt.show()"
      ],
      "metadata": {
        "id": "K6qg_jBZl1dL"
      },
      "execution_count": null,
      "outputs": []
    },
    {
      "cell_type": "code",
      "source": [
        "# Split the data to train and test dataset.\n",
        "from sklearn.model_selection import train_test_split\n",
        "X_train, X_test, y_train, y_test = train_test_split(X, Y, test_size=0.2)"
      ],
      "metadata": {
        "id": "P2xoMksZl6y3"
      },
      "execution_count": null,
      "outputs": []
    },
    {
      "cell_type": "code",
      "source": [
        "# Support vector machine algorithm\n",
        "from sklearn.svm import SVC\n",
        "svn = SVC()\n",
        "svn.fit(X_train, y_train)"
      ],
      "metadata": {
        "id": "KKfusmVil9y-"
      },
      "execution_count": null,
      "outputs": []
    },
    {
      "cell_type": "code",
      "source": [
        "# Predict from the test dataset\n",
        "predictions = svn.predict(X_test)\n",
        "\n",
        "# Calculate the accuracy\n",
        "from sklearn.metrics import accuracy_score\n",
        "accuracy_score(y_test, predictions)"
      ],
      "metadata": {
        "id": "v1plaSs5mAWh"
      },
      "execution_count": null,
      "outputs": []
    },
    {
      "cell_type": "code",
      "source": [
        "# A detailed classification report\n",
        "from sklearn.metrics import classification_report\n",
        "print(classification_report(y_test, predictions))\n",
        "\n",
        "                    precision    recall  f1-score   support\n",
        "\n",
        "    Iris-setosa         1.00      1.00      1.00         9\n",
        "Iris-versicolor         1.00      0.83      0.91        12\n",
        " Iris-virginica         0.82      1.00      0.90         9\n",
        "\n",
        "       accuracy                                 0.93        30\n",
        "      macro avg         0.94      0.94      0.94        30\n",
        "   weighted avg         0.95      0.93      0.93        30"
      ],
      "metadata": {
        "id": "xb5dIChwmKCr"
      },
      "execution_count": null,
      "outputs": []
    },
    {
      "cell_type": "code",
      "source": [
        "X_new = np.array([[3, 2, 1, 0.2], [  4.9, 2.2, 3.8, 1.1 ], [  5.3, 2.5, 4.6, 1.9 ]])\n",
        "#Prediction of the species from the input vector\n",
        "prediction = svn.predict(X_new)\n",
        "print(\"Prediction of Species: {}\".format(prediction))"
      ],
      "metadata": {
        "id": "PEDbp_x-mEvT"
      },
      "execution_count": null,
      "outputs": []
    },
    {
      "cell_type": "code",
      "source": [
        "# Save the model\n",
        "import pickle\n",
        "with open('SVM.pickle', 'wb') as f:\n",
        "    pickle.dump(svn, f)\n",
        "\n",
        "# Load the model\n",
        "with open('SVM.pickle', 'rb') as f:\n",
        "    model = pickle.load(f)\n",
        "model.predict(X_new)"
      ],
      "metadata": {
        "id": "PE0HV-ydmMA8"
      },
      "execution_count": null,
      "outputs": []
    }
  ]
}